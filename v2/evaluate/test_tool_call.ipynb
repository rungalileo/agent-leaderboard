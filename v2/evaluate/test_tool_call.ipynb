{
 "cells": [
  {
   "cell_type": "code",
   "execution_count": 1,
   "metadata": {},
   "outputs": [
    {
     "data": {
      "text/plain": [
       "True"
      ]
     },
     "execution_count": 1,
     "metadata": {},
     "output_type": "execute_result"
    }
   ],
   "source": [
    "import json \n",
    "from pprint import pprint\n",
    "from llm_handler import LLMHandler\n",
    "from config import FILE_PATHS\n",
    "from dotenv import load_dotenv\n",
    "\n",
    "load_dotenv(\"../.env\")"
   ]
  },
  {
   "cell_type": "code",
   "execution_count": 2,
   "metadata": {},
   "outputs": [],
   "source": [
    "domain = \"banking\"\n",
    "category = \"adaptive_tool_use\"\n",
    "\n",
    "persona_path = FILE_PATHS[\"personas\"].format(domain=domain)\n",
    "scenario_path = FILE_PATHS[\"scenarios\"].format(domain=domain, category=category)\n",
    "tool_path = FILE_PATHS[\"tools\"].format(domain=domain)"
   ]
  },
  {
   "cell_type": "code",
   "execution_count": 3,
   "metadata": {},
   "outputs": [],
   "source": [
    "model_name = \"gpt-4o-mini\"\n",
    "# model_name = \"claude-3-7-sonnet-20250219\"\n",
    "# model_name = \"gpt-4.1-2025-04-14\"\n",
    "\n",
    "llm = LLMHandler().get_llm(model_name=model_name, temperature=0.0)\n",
    "\n",
    "with open(scenario_path, \"r\") as f:\n",
    "    scenarios = json.load(f)\n",
    "    \n",
    "with open(tool_path, \"r\") as f:\n",
    "    tools = json.load(f)\n",
    "    \n",
    "llm = llm.bind_tools(tools)"
   ]
  },
  {
   "cell_type": "code",
   "execution_count": 8,
   "metadata": {},
   "outputs": [
    {
     "name": "stdout",
     "output_type": "stream",
     "text": [
      "'I am earning 1000000 per year. I need a home loan of 100000 for 1 year'\n"
     ]
    },
    {
     "data": {
      "text/plain": [
       "('',\n",
       " [{'name': 'apply_for_loan',\n",
       "   'args': {'loan_type': 'mortgage',\n",
       "    'loan_amount': 100000,\n",
       "    'loan_term_months': 12,\n",
       "    'annual_income': 1000000,\n",
       "    'employment_status': 'employed'},\n",
       "   'id': 'call_4CAEQO1R8rSlk0dakHUS5F1a',\n",
       "   'type': 'tool_call'}])"
      ]
     },
     "execution_count": 8,
     "metadata": {},
     "output_type": "execute_result"
    }
   ],
   "source": [
    "# call the llm with the tools\n",
    "system_prompt = \"\"\"\n",
    "You are a helpful assistant that can use the tools given to help the user. You can use multiple tools to answer the user's query.\n",
    "\"\"\"\n",
    "\n",
    "query = scenarios[0][\"first_message\"] \n",
    "query = \"What is the balance of my account with the id 1234567890?\"\n",
    "query = \"i want to check all the credit transactions for my account with the id 1234567890\"\n",
    "query = \"I am earning 1000000 per year. I need a home loan of 100000 for 1 year\"\n",
    "pprint(query)\n",
    "\n",
    "messages = [\n",
    "    {\"role\": \"system\", \"content\": system_prompt},\n",
    "    {\"role\": \"user\", \"content\": query},\n",
    "]\n",
    "\n",
    "response = llm.invoke(messages)\n",
    "\n",
    "response.content, response.tool_calls"
   ]
  },
  {
   "cell_type": "code",
   "execution_count": null,
   "metadata": {},
   "outputs": [],
   "source": []
  },
  {
   "cell_type": "code",
   "execution_count": null,
   "metadata": {},
   "outputs": [],
   "source": []
  }
 ],
 "metadata": {
  "kernelspec": {
   "display_name": "al",
   "language": "python",
   "name": "python3"
  },
  "language_info": {
   "codemirror_mode": {
    "name": "ipython",
    "version": 3
   },
   "file_extension": ".py",
   "mimetype": "text/x-python",
   "name": "python",
   "nbconvert_exporter": "python",
   "pygments_lexer": "ipython3",
   "version": "3.12.9"
  }
 },
 "nbformat": 4,
 "nbformat_minor": 2
}
