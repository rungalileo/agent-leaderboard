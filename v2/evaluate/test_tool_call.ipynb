{
 "cells": [
  {
   "cell_type": "code",
   "execution_count": 15,
   "metadata": {},
   "outputs": [
    {
     "data": {
      "text/plain": [
       "True"
      ]
     },
     "execution_count": 15,
     "metadata": {},
     "output_type": "execute_result"
    }
   ],
   "source": [
    "import json \n",
    "from pprint import pprint\n",
    "from llm_handler import LLMHandler\n",
    "from config import FILE_PATHS\n",
    "from dotenv import load_dotenv\n",
    "\n",
    "load_dotenv(\"../.env\")"
   ]
  },
  {
   "cell_type": "code",
   "execution_count": 16,
   "metadata": {},
   "outputs": [],
   "source": [
    "domain = \"banking\"\n",
    "category = \"adaptive_tool_use\"\n",
    "\n",
    "persona_path = FILE_PATHS[\"personas\"].format(domain=domain)\n",
    "scenario_path = FILE_PATHS[\"scenarios\"].format(domain=domain, category=category)\n",
    "tool_path = FILE_PATHS[\"tools\"].format(domain=domain)"
   ]
  },
  {
   "cell_type": "code",
   "execution_count": 38,
   "metadata": {},
   "outputs": [],
   "source": [
    "model_name = \"gpt-4o-mini\"\n",
    "# model_name = \"claude-3-7-sonnet-20250219\"\n",
    "# model_name = \"gpt-4.1-2025-04-14\"\n",
    "\n",
    "llm = LLMHandler().get_llm(model_name=model_name, temperature=0.0)\n",
    "\n",
    "with open(tool_path, \"r\") as f:\n",
    "    tools = json.load(f)\n",
    "\n",
    "with open(scenario_path, \"r\") as f:\n",
    "    scenarios = json.load(f)\n",
    "    \n",
    "llm = llm.bind_tools(tools)"
   ]
  },
  {
   "cell_type": "code",
   "execution_count": null,
   "metadata": {},
   "outputs": [
    {
     "name": "stdout",
     "output_type": "stream",
     "text": [
      "('Hello there, this is Maria. I need to check on my savings account because '\n",
      " \"I'm worried about some transactions I don't recognize. I also want to make \"\n",
      " 'sure my social security payments are coming in properly, and I might need to '\n",
      " 'update where my statements are being sent because I moved in with my '\n",
      " 'daughter last month.Im planning an international trip next month and need to '\n",
      " 'prepare my banking arrangements. My current card expires during my trip and '\n",
      " 'Ive had some suspicious transactions I need to dispute before I leave.')\n"
     ]
    },
    {
     "data": {
      "text/plain": [
       "[{'name': 'list_customer_accounts',\n",
       "  'args': {'account_type': 'savings'},\n",
       "  'id': 'call_p9KBSxdvGLCavS4HvJ6G0LaF',\n",
       "  'type': 'tool_call'}]"
      ]
     },
     "execution_count": 45,
     "metadata": {},
     "output_type": "execute_result"
    }
   ],
   "source": [
    "# call the llm with the tools\n",
    "system_prompt = \"\"\"\n",
    "You are a helpful assistant that can use the tools given to help the user. You can use multiple tools to answer the user's query.\n",
    "\"\"\"\n",
    "\n",
    "query = \"What is the balance of my account with the id 1234567890?\"\n",
    "query = \"i want to check all the credit transactions for my account with the id 1234567890\"\n",
    "query = scenarios[0][\"first_message\"] \n",
    "pprint(query)\n",
    "\n",
    "messages = [\n",
    "    {\"role\": \"system\", \"content\": system_prompt},\n",
    "    {\"role\": \"user\", \"content\": query},\n",
    "]\n",
    "\n",
    "response = llm.invoke(messages)\n",
    "response.tool_calls"
   ]
  },
  {
   "cell_type": "code",
   "execution_count": null,
   "metadata": {},
   "outputs": [],
   "source": []
  },
  {
   "cell_type": "code",
   "execution_count": null,
   "metadata": {},
   "outputs": [],
   "source": []
  }
 ],
 "metadata": {
  "kernelspec": {
   "display_name": "al",
   "language": "python",
   "name": "python3"
  },
  "language_info": {
   "codemirror_mode": {
    "name": "ipython",
    "version": 3
   },
   "file_extension": ".py",
   "mimetype": "text/x-python",
   "name": "python",
   "nbconvert_exporter": "python",
   "pygments_lexer": "ipython3",
   "version": "3.12.9"
  }
 },
 "nbformat": 4,
 "nbformat_minor": 2
}
