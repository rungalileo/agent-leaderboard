{
 "cells": [
  {
   "cell_type": "code",
   "execution_count": 1,
   "metadata": {},
   "outputs": [
    {
     "data": {
      "text/plain": [
       "True"
      ]
     },
     "execution_count": 1,
     "metadata": {},
     "output_type": "execute_result"
    }
   ],
   "source": [
    "import json \n",
    "from pprint import pprint\n",
    "from llm_handler import LLMHandler\n",
    "from config import FILE_PATHS\n",
    "from dotenv import load_dotenv\n",
    "\n",
    "load_dotenv(\"../.env\")"
   ]
  },
  {
   "cell_type": "code",
   "execution_count": 3,
   "metadata": {},
   "outputs": [],
   "source": [
    "domain = \"banking\"\n",
    "category = \"adaptive_tool_use\"\n",
    "\n",
    "persona_path = FILE_PATHS[\"personas\"].format(domain=domain)\n",
    "scenario_path = FILE_PATHS[\"scenarios\"].format(domain=domain, category=category)\n",
    "tool_path = FILE_PATHS[\"tools\"].format(domain=domain)"
   ]
  },
  {
   "cell_type": "code",
   "execution_count": 5,
   "metadata": {},
   "outputs": [],
   "source": [
    "model_name = \"gpt-4o-mini\"\n",
    "# model_name = \"claude-3-7-sonnet-20250219\"\n",
    "# model_name = \"gpt-4.1-2025-04-14\"\n",
    "\n",
    "llm = LLMHandler().get_llm(model_name=model_name, temperature=0.0)\n",
    "\n",
    "with open(scenario_path, \"r\") as f:\n",
    "    scenarios = json.load(f)\n",
    "    \n",
    "with open(tool_path, \"r\") as f:\n",
    "    tools = json.load(f)\n",
    "    \n",
    "llm = llm.bind_tools(tools)"
   ]
  },
  {
   "cell_type": "code",
   "execution_count": 6,
   "metadata": {},
   "outputs": [
    {
     "name": "stdout",
     "output_type": "stream",
     "text": [
      "'I am earning 1000000 per year. I need a home loan of 100000 for 1 year'\n"
     ]
    },
    {
     "data": {
      "text/plain": [
       "('',\n",
       " [{'name': 'apply_for_loan',\n",
       "   'args': {'loan_type': 'mortgage',\n",
       "    'loan_amount': 100000,\n",
       "    'loan_term_months': 12,\n",
       "    'annual_income': 1000000,\n",
       "    'employment_status': 'employed'},\n",
       "   'id': 'call_idErPtjc5I42HLDUyKqsqdB0',\n",
       "   'type': 'tool_call'}],\n",
       " AIMessage(content='', additional_kwargs={'tool_calls': [{'id': 'call_idErPtjc5I42HLDUyKqsqdB0', 'function': {'arguments': '{\"loan_type\":\"mortgage\",\"loan_amount\":100000,\"loan_term_months\":12,\"annual_income\":1000000,\"employment_status\":\"employed\"}', 'name': 'apply_for_loan'}, 'type': 'function'}], 'refusal': None}, response_metadata={'token_usage': {'completion_tokens': 44, 'prompt_tokens': 3576, 'total_tokens': 3620, 'completion_tokens_details': {'accepted_prediction_tokens': 0, 'audio_tokens': 0, 'reasoning_tokens': 0, 'rejected_prediction_tokens': 0}, 'prompt_tokens_details': {'audio_tokens': 0, 'cached_tokens': 0}}, 'model_name': 'gpt-4o-mini-2024-07-18', 'system_fingerprint': 'fp_62a23a81ef', 'id': 'chatcmpl-BhvBRRBbUl6SS598H7xL8lNEW1EaD', 'service_tier': 'default', 'finish_reason': 'tool_calls', 'logprobs': None}, id='run--7c334fac-4987-47e9-b4f9-6a6b0f6957cd-0', tool_calls=[{'name': 'apply_for_loan', 'args': {'loan_type': 'mortgage', 'loan_amount': 100000, 'loan_term_months': 12, 'annual_income': 1000000, 'employment_status': 'employed'}, 'id': 'call_idErPtjc5I42HLDUyKqsqdB0', 'type': 'tool_call'}], usage_metadata={'input_tokens': 3576, 'output_tokens': 44, 'total_tokens': 3620, 'input_token_details': {'audio': 0, 'cache_read': 0}, 'output_token_details': {'audio': 0, 'reasoning': 0}}))"
      ]
     },
     "execution_count": 6,
     "metadata": {},
     "output_type": "execute_result"
    }
   ],
   "source": [
    "# call the llm with the tools\n",
    "system_prompt = \"\"\"\n",
    "You are a helpful assistant that can use the tools given to help the user. You can use multiple tools to answer the user's query.\n",
    "\"\"\"\n",
    "\n",
    "query = scenarios[0][\"first_message\"] \n",
    "query = \"What is the balance of my account with the id 1234567890?\"\n",
    "query = \"i want to check all the credit transactions for my account with the id 1234567890\"\n",
    "query = \"I am earning 1000000 per year. I need a home loan of 100000 for 1 year\"\n",
    "pprint(query)\n",
    "\n",
    "messages = [\n",
    "    {\"role\": \"system\", \"content\": system_prompt},\n",
    "    {\"role\": \"user\", \"content\": query},\n",
    "]\n",
    "\n",
    "response = llm.invoke(messages)\n",
    "\n",
    "response.content, response.tool_calls, response"
   ]
  },
  {
   "cell_type": "code",
   "execution_count": 9,
   "metadata": {},
   "outputs": [
    {
     "data": {
      "text/plain": [
       "(3576, 44)"
      ]
     },
     "execution_count": 9,
     "metadata": {},
     "output_type": "execute_result"
    }
   ],
   "source": [
    "response.response_metadata[\"token_usage\"][\"prompt_tokens\"], response.response_metadata[\"token_usage\"][\"completion_tokens\"]"
   ]
  },
  {
   "cell_type": "code",
   "execution_count": 10,
   "metadata": {},
   "outputs": [
    {
     "data": {
      "text/plain": [
       "{'completion_tokens': 44,\n",
       " 'prompt_tokens': 3576,\n",
       " 'total_tokens': 3620,\n",
       " 'completion_tokens_details': {'accepted_prediction_tokens': 0,\n",
       "  'audio_tokens': 0,\n",
       "  'reasoning_tokens': 0,\n",
       "  'rejected_prediction_tokens': 0},\n",
       " 'prompt_tokens_details': {'audio_tokens': 0, 'cached_tokens': 0}}"
      ]
     },
     "execution_count": 10,
     "metadata": {},
     "output_type": "execute_result"
    }
   ],
   "source": [
    "response.response_metadata[\"token_usage\"]"
   ]
  },
  {
   "cell_type": "code",
   "execution_count": 12,
   "metadata": {},
   "outputs": [],
   "source": [
    "import time"
   ]
  },
  {
   "cell_type": "code",
   "execution_count": 13,
   "metadata": {},
   "outputs": [],
   "source": [
    "start_time = time.time()"
   ]
  },
  {
   "cell_type": "code",
   "execution_count": 14,
   "metadata": {},
   "outputs": [
    {
     "data": {
      "text/plain": [
       "15.161269903182983"
      ]
     },
     "execution_count": 14,
     "metadata": {},
     "output_type": "execute_result"
    }
   ],
   "source": [
    "time.time() - start_time"
   ]
  },
  {
   "cell_type": "code",
   "execution_count": null,
   "metadata": {},
   "outputs": [],
   "source": []
  }
 ],
 "metadata": {
  "kernelspec": {
   "display_name": "Python (al)",
   "language": "python",
   "name": "al"
  },
  "language_info": {
   "codemirror_mode": {
    "name": "ipython",
    "version": 3
   },
   "file_extension": ".py",
   "mimetype": "text/x-python",
   "name": "python",
   "nbconvert_exporter": "python",
   "pygments_lexer": "ipython3",
   "version": "3.12.10"
  }
 },
 "nbformat": 4,
 "nbformat_minor": 2
}
