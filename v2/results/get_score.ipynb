{
 "cells": [
  {
   "cell_type": "code",
   "execution_count": 1,
   "metadata": {},
   "outputs": [
    {
     "data": {
      "text/plain": [
       "True"
      ]
     },
     "execution_count": 1,
     "metadata": {},
     "output_type": "execute_result"
    }
   ],
   "source": [
    "from galileo.experiments import get_experiment\n",
    "\n",
    "from dotenv import load_dotenv\n",
    "\n",
    "load_dotenv(\"../.env\")"
   ]
  },
  {
   "cell_type": "code",
   "execution_count": 2,
   "metadata": {},
   "outputs": [],
   "source": [
    "project_id = \"de7e02e1-146a-40f4-a75b-9433c3ecb1d9\" # agent leaderboard test\n",
    "experiment_name = \"gpt-4.1-nano-2025-04-14-banking-tool_coordination-1745174938\"\n",
    "\n",
    "# project_id = \"a7db87ed-0110-45d5-8da9-a40d5b2e2269\" # agent leaderboard"
   ]
  },
  {
   "cell_type": "code",
   "execution_count": 3,
   "metadata": {},
   "outputs": [],
   "source": [
    "experiment = get_experiment(project_id=project_id, experiment_name=experiment_name)"
   ]
  },
  {
   "cell_type": "code",
   "execution_count": 9,
   "metadata": {},
   "outputs": [
    {
     "name": "stdout",
     "output_type": "stream",
     "text": [
      "ExperimentResponse(created_at=datetime.datetime(2025, 4, 20, 18, 49, 1, 881797, tzinfo=tzutc()), id='644857ea-aa71-4b0e-855e-13da0e8d3e18', name='gpt-4.1-nano-2025-04-14-banking-tool_coordination-1745174938', project_id='de7e02e1-146a-40f4-a75b-9433c3ecb1d9', updated_at=datetime.datetime(2025, 4, 20, 19, 13, 27, 750550, tzinfo=tzutc()), created_by='70af9665-d3bf-42ad-b47d-e12acbb695ef', additional_properties={'task_type': 16, 'dataset': None, 'aggregate_metrics': {'agentic_session_success_total_cost': 0.0, 'agentic_workflow_success_total_cost': 0.0, 'average_agentic_session_success': 0.40816326530612246, 'average_agentic_workflow_success': 0.9, 'average_tool_selection_quality': 0.7466666708141565, 'tool_selection_quality_total_cost': 0.0, 'total_responses': 50.0}, 'ranking_score': 0.684943312040093, 'rank': 13, 'winner': False})\n"
     ]
    }
   ],
   "source": [
    "print(experiment)"
   ]
  },
  {
   "cell_type": "code",
   "execution_count": 14,
   "metadata": {},
   "outputs": [
    {
     "name": "stdout",
     "output_type": "stream",
     "text": [
      "agentic_session_success_total_cost 0.0\n",
      "agentic_workflow_success_total_cost 0.0\n",
      "average_agentic_session_success 0.41\n",
      "average_agentic_workflow_success 0.9\n",
      "average_tool_selection_quality 0.75\n",
      "tool_selection_quality_total_cost 0.0\n",
      "total_responses 50.0\n"
     ]
    }
   ],
   "source": [
    "for k, v in experiment.additional_properties['aggregate_metrics'].items():\n",
    "    print(k, round(v, 2))"
   ]
  },
  {
   "cell_type": "code",
   "execution_count": 18,
   "metadata": {},
   "outputs": [
    {
     "name": "stdout",
     "output_type": "stream",
     "text": [
      "0.75\n",
      "0.9\n",
      "0.41\n"
     ]
    }
   ],
   "source": [
    "metrics = experiment.additional_properties['aggregate_metrics']\n",
    "avg_tool_selection_quality = round(metrics['average_tool_selection_quality'], 2)\n",
    "avg_action_advancement = round(metrics['average_agentic_workflow_success'], 2)\n",
    "avg_action_completion = round(metrics['average_agentic_session_success'], 2)\n",
    "\n",
    "print(avg_tool_selection_quality)\n",
    "print(avg_action_advancement)\n",
    "print(avg_action_completion)"
   ]
  },
  {
   "cell_type": "code",
   "execution_count": null,
   "metadata": {},
   "outputs": [],
   "source": []
  }
 ],
 "metadata": {
  "kernelspec": {
   "display_name": "al",
   "language": "python",
   "name": "python3"
  },
  "language_info": {
   "codemirror_mode": {
    "name": "ipython",
    "version": 3
   },
   "file_extension": ".py",
   "mimetype": "text/x-python",
   "name": "python",
   "nbconvert_exporter": "python",
   "pygments_lexer": "ipython3",
   "version": "3.12.9"
  }
 },
 "nbformat": 4,
 "nbformat_minor": 2
}
